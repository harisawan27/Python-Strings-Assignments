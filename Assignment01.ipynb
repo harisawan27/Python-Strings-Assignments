{
  "nbformat": 4,
  "nbformat_minor": 0,
  "metadata": {
    "colab": {
      "provenance": []
    },
    "kernelspec": {
      "name": "python3",
      "display_name": "Python 3"
    },
    "language_info": {
      "name": "python"
    }
  },
  "cells": [
    {
      "cell_type": "markdown",
      "source": [
        "**Muhammad Haris Awan**\n",
        "\n",
        "**00279605**\n",
        "\n",
        "**Class Assignment 1**"
      ],
      "metadata": {
        "id": "7BxsNn99MkzU"
      }
    },
    {
      "cell_type": "markdown",
      "source": [
        "# Python Strings Assignments"
      ],
      "metadata": {
        "id": "JRB-T08DNuRi"
      }
    },
    {
      "cell_type": "markdown",
      "source": [
        "Part 1: Understanding String Literals\n",
        "1. Create three different strings using each type of quotation:\n",
        "* Single quotes ('example')\n",
        "* Double quotes (\"example\")\n",
        "* Triple quotes (\"\"\"example\"\"\")"
      ],
      "metadata": {
        "id": "rc0MWiMXOLX6"
      }
    },
    {
      "cell_type": "code",
      "source": [
        "# Single qoutes\n",
        "single_qoutes = 'Hello World'\n",
        "print(single_qoutes)"
      ],
      "metadata": {
        "colab": {
          "base_uri": "https://localhost:8080/"
        },
        "id": "96sElbQDPBKt",
        "outputId": "9d3a57de-df28-4222-ad3e-e39fac9f3ff3"
      },
      "execution_count": 1,
      "outputs": [
        {
          "output_type": "stream",
          "name": "stdout",
          "text": [
            "Hello World\n"
          ]
        }
      ]
    },
    {
      "cell_type": "code",
      "source": [
        "# Double qoutes\n",
        "double_qoutes = \"Hello World\"\n",
        "print(double_qoutes)"
      ],
      "metadata": {
        "colab": {
          "base_uri": "https://localhost:8080/"
        },
        "id": "X4A99xmYP8xi",
        "outputId": "1b53afc5-ad64-480e-8a07-b5c7467286e6"
      },
      "execution_count": 3,
      "outputs": [
        {
          "output_type": "stream",
          "name": "stdout",
          "text": [
            "Hello World\n"
          ]
        }
      ]
    },
    {
      "cell_type": "code",
      "source": [
        "#Single qoutes\n",
        "triple_qoutes = \"\"\"I am Haris\n",
        "I study in class 11\n",
        "I learning Python in GIAIC\"\"\"\n",
        "print(triple_qoutes)"
      ],
      "metadata": {
        "colab": {
          "base_uri": "https://localhost:8080/"
        },
        "id": "lcDH_IztQVku",
        "outputId": "8c009c11-fc8b-46f8-a722-550eaec5fd45"
      },
      "execution_count": 4,
      "outputs": [
        {
          "output_type": "stream",
          "name": "stdout",
          "text": [
            "I am Haris\n",
            "I study in class 11\n",
            "I learning Python in GIAIC\n"
          ]
        }
      ]
    },
    {
      "cell_type": "markdown",
      "source": [
        "2. Explain in your own words: What is the advantage of each type of quotation?"
      ],
      "metadata": {
        "id": "R4CFt1gtRQJi"
      }
    },
    {
      "cell_type": "markdown",
      "source": [
        "Advantages of each type of quotation:\n",
        " - Single quotes are simple and useful for short strings.\n",
        " - Double quotes allow embedding single quotes inside.\n",
        " - Triple quotes are useful for multi-line strings and documentation."
      ],
      "metadata": {
        "id": "Tb9EiXsqSzQl"
      }
    },
    {
      "cell_type": "markdown",
      "source": [
        "3. Write a string that contains both single and double quotes inside it.\n",
        "\n",
        "Example: She said,\n",
        "\"I'm going to the store.\""
      ],
      "metadata": {
        "id": "edplsoSRS-P8"
      }
    },
    {
      "cell_type": "code",
      "source": [
        "mixed_strings = \"\"\" He said, \"I'm going to play Cricket.\" \"\"\"\n",
        "print(mixed_strings)"
      ],
      "metadata": {
        "colab": {
          "base_uri": "https://localhost:8080/"
        },
        "id": "B2Qp4yihTiPR",
        "outputId": "989be816-d6aa-4927-a681-c3529509056a"
      },
      "execution_count": 13,
      "outputs": [
        {
          "output_type": "stream",
          "name": "stdout",
          "text": [
            " He said, \"I'm going to play Cricket.\" \n"
          ]
        }
      ]
    },
    {
      "cell_type": "markdown",
      "source": [
        "4. Create a multi-line string using triple quotes that describes your favorite hobby.\n"
      ],
      "metadata": {
        "id": "FZqQqh6pVMVV"
      }
    },
    {
      "cell_type": "code",
      "source": [
        "my_hobby = \"\"\"\n",
        "I love programming because it allows me to create amazing applications.\n",
        "It challenges my logic and problem-solving skills while making a positive impact.\n",
        "\"\"\"\n",
        "print(my_hobby)"
      ],
      "metadata": {
        "colab": {
          "base_uri": "https://localhost:8080/"
        },
        "id": "FxKnZQpsVT0d",
        "outputId": "58b02ace-5f20-4f80-c11e-95f094c0600a"
      },
      "execution_count": 14,
      "outputs": [
        {
          "output_type": "stream",
          "name": "stdout",
          "text": [
            "\n",
            "I love programming because it allows me to create amazing applications.\n",
            "It challenges my logic and problem-solving skills while making a positive impact.\n",
            "\n"
          ]
        }
      ]
    },
    {
      "cell_type": "markdown",
      "source": [
        "# Part 2: String Methods Practice"
      ],
      "metadata": {
        "id": "e4FkMQ2FVn-o"
      }
    },
    {
      "cell_type": "markdown",
      "source": [
        "1. Create a variable full_name with your full name (first and last name). Then write code\n",
        "to:\n",
        "* Print your name in all uppercase letters\n",
        "* Print your name in all lowercase letters\n",
        "* Print your name with the first letter of each name capitalized"
      ],
      "metadata": {
        "id": "D4E32lreV27j"
      }
    },
    {
      "cell_type": "code",
      "source": [
        "full_name = \"Muhammad Haris Awan\"\n",
        "print(full_name.upper())       # Uppercase\n",
        "print(full_name.lower())       # Lowercase\n",
        "print(full_name.title())       # Capitalized"
      ],
      "metadata": {
        "colab": {
          "base_uri": "https://localhost:8080/"
        },
        "id": "P3EQpDtBWIT2",
        "outputId": "3ad313e8-e5b9-442c-a3e4-8c8b7291c15d"
      },
      "execution_count": 15,
      "outputs": [
        {
          "output_type": "stream",
          "name": "stdout",
          "text": [
            "MUHAMMAD HARIS AWAN\n",
            "muhammad haris awan\n",
            "Muhammad Haris Awan\n"
          ]
        }
      ]
    },
    {
      "cell_type": "markdown",
      "source": [
        "2. Create a variable messy_text = \" Python programming is fun! \" Then write code\n",
        "to:\n",
        "* Remove all the extra spaces at the beginning and end\n",
        "* Replace \"fun\" with \"amazing\"\n",
        "* Count how many times the letter 'i' appears"
      ],
      "metadata": {
        "id": "jFt_-p4hWayi"
      }
    },
    {
      "cell_type": "code",
      "source": [
        "messy_text = \" Python programming is fun! \"\n",
        "\n",
        "striped = messy_text.strip()      # Remove extra spaces\n",
        "print(striped)\n",
        "\n",
        "replaced = striped.replace(\"fun\", \"amazing\")  # Replace words\n",
        "print(replaced)\n",
        "\n",
        "counted = messy_text.count(\"i\")   # Count occurrences of 'i'\n",
        "print(counted)"
      ],
      "metadata": {
        "colab": {
          "base_uri": "https://localhost:8080/"
        },
        "id": "JNxzJM7qWqyN",
        "outputId": "d8aac201-0291-412b-918a-9d1c5f1f1584"
      },
      "execution_count": 22,
      "outputs": [
        {
          "output_type": "stream",
          "name": "stdout",
          "text": [
            "Python programming is fun!\n",
            "Python programming is amazing!\n",
            "2\n"
          ]
        }
      ]
    },
    {
      "cell_type": "markdown",
      "source": [
        "3. Create a variable sentence = \"The quick brown fox jumps over the lazy dog\"\n",
        "Then write code to:\n",
        "* Split this sentence into a list of words\n",
        "* Join the words back together with dashes between them\n",
        "* Check if the sentence starts with \"The\"\n",
        "* Find the position of the word \"fox"
      ],
      "metadata": {
        "id": "7X76GlqRY3Ij"
      }
    },
    {
      "cell_type": "code",
      "source": [
        "sentence = \"The quick brown fox jumps over the lazy dog\"\n",
        "\n",
        "words = sentence.split()       # Split into words\n",
        "print(words)\n",
        "\n",
        "print(\"-\".join(words))        # Join words with dashes\n",
        "\n",
        "print(sentence.startswith(\"The\"))  # Check if it starts with \"The\"\n",
        "\n",
        "print(sentence.find(\"fox\"))    # Find position of \"fox\""
      ],
      "metadata": {
        "colab": {
          "base_uri": "https://localhost:8080/"
        },
        "id": "aeGXH38bZBOs",
        "outputId": "2568e0f6-5d47-4779-da1b-49a2ef835965"
      },
      "execution_count": 24,
      "outputs": [
        {
          "output_type": "stream",
          "name": "stdout",
          "text": [
            "['The', 'quick', 'brown', 'fox', 'jumps', 'over', 'the', 'lazy', 'dog']\n",
            "The-quick-brown-fox-jumps-over-the-lazy-dog\n",
            "True\n",
            "16\n"
          ]
        }
      ]
    },
    {
      "cell_type": "markdown",
      "source": [
        "# Part 3: F-Strings"
      ],
      "metadata": {
        "id": "O5qFuLj3ZyaU"
      }
    },
    {
      "cell_type": "markdown",
      "source": [
        "1. Create variables for:\n",
        "* Your name\n",
        "* Your age\n",
        "* Your favorite programming language\n",
        "\n",
        "Then use f-strings to create these sentences:\n",
        "* \"My name is {your_name} and I am {your_age} years old.\"\n",
        "* \"I enjoy programming in {language}, it's my favorite!\"\n",
        "* Create a math expression inside an f-string: \"In 5 years, I will be {age + 5} years\n",
        "old.\""
      ],
      "metadata": {
        "id": "ZThQ_iylZ1g-"
      }
    },
    {
      "cell_type": "code",
      "source": [
        "# Part 3: F-Strings\n",
        "name = \"Haris\"\n",
        "age = 17\n",
        "language = \"Python\"\n",
        "\n",
        "print(f\"My name is {name} and I am {age} years old.\")\n",
        "print(f\"I enjoy programming in {language}, it's my favorite!\")\n",
        "print(f\"In 5 years, I will be {age + 5} years old.\")"
      ],
      "metadata": {
        "colab": {
          "base_uri": "https://localhost:8080/"
        },
        "id": "bfx-4hCLaX3H",
        "outputId": "7b1ecc90-7c75-41a8-f0d2-0cd78e8bb13b"
      },
      "execution_count": 25,
      "outputs": [
        {
          "output_type": "stream",
          "name": "stdout",
          "text": [
            "My name is Haris and I am 17 years old.\n",
            "I enjoy programming in Python, it's my favorite!\n",
            "In 5 years, I will be 22 years old.\n"
          ]
        }
      ]
    },
    {
      "cell_type": "markdown",
      "source": [
        "# Part 4: Combining String Methods with F-Strings"
      ],
      "metadata": {
        "id": "i3YHkooyaXc7"
      }
    },
    {
      "cell_type": "markdown",
      "source": [
        "Create a program that:\n",
        "1. Asks for user input about their first name, last name, and birth year\n",
        "2. Uses string methods to properly capitalize their name\n",
        "3. Uses f-strings to create a profile message: \"Profile: {First Last}, Age: {calculated age},\n",
        "Username: {first initial + last name + birth year}\""
      ],
      "metadata": {
        "id": "eSp3eGUJa4Yj"
      }
    },
    {
      "cell_type": "code",
      "source": [
        "first_name = input(\"Enter your first name: \").strip().capitalize()\n",
        "last_name = input(\"Enter your last name: \").strip().capitalize()\n",
        "birth_year = int(input(\"Enter your birth year: \"))\n",
        "current_year = 2025\n",
        "age = current_year - birth_year\n",
        "\n",
        "username = f\"{first_name[0].lower()}{last_name.lower()}{birth_year}\"\n",
        "profile_message = f\"Profile: {first_name} {last_name}, Age: {age}, Username: {username}\"\n",
        "print(profile_message)"
      ],
      "metadata": {
        "colab": {
          "base_uri": "https://localhost:8080/"
        },
        "id": "bbdgN-yJbQSi",
        "outputId": "1a44c6da-2a1d-48c8-876b-e7c1212af648"
      },
      "execution_count": 26,
      "outputs": [
        {
          "output_type": "stream",
          "name": "stdout",
          "text": [
            "Enter your first name: Haris\n",
            "Enter your last name: awan\n",
            "Enter your birth year: 2007\n",
            "Profile: Haris Awan, Age: 18, Username: hawan2007\n"
          ]
        }
      ]
    }
  ]
}